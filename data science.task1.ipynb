{
  "cells": [
    {
      "cell_type": "markdown",
      "metadata": {
        "colab_type": "text",
        "id": "view-in-github"
      },
      "source": [
        "<a href=\"https://colab.research.google.com/github/anchaltri255/DSV-Task-repo/blob/main/DSV_Task1.ipynb\" target=\"_parent\"><img src=\"https://colab.research.google.com/assets/colab-badge.svg\" alt=\"Open In Colab\"/></a>"
      ]
    },
    {
      "cell_type": "markdown",
      "metadata": {
        "id": "DXqPMCuhwihk"
      },
      "source": [
        "# **Dataset Exploration:**\n",
        "   - Load the Iris dataset from sklearn.datasets.\n",
        "   - Display the first five rows, the dataset’s shape, and summary statistics (mean, standard deviation, min/max values) for each feature."
      ]
    },
    {
      "cell_type": "code",
      "execution_count": null,
      "metadata": {
        "colab": {
          "base_uri": "https://localhost:8080/"
        },
        "id": "B024IaWYwkoG",
        "outputId": "93a2cf15-639d-46ac-8550-8f27c62a2475"
      },
      "outputs": [
        {
          "name": "stdout",
          "output_type": "stream",
          "text": [
            "First five rows of the dataset:\n",
            "   sepal length (cm)  sepal width (cm)  petal length (cm)  petal width (cm)\n",
            "0                5.1               3.5                1.4               0.2\n",
            "1                4.9               3.0                1.4               0.2\n",
            "2                4.7               3.2                1.3               0.2\n",
            "3                4.6               3.1                1.5               0.2\n",
            "4                5.0               3.6                1.4               0.2\n",
            "\n",
            "Shape of the dataset:\n",
            "(150, 4)\n",
            "\n",
            "Summary statistics of the dataset:\n",
            "       sepal length (cm)  sepal width (cm)  petal length (cm)  \\\n",
            "count         150.000000        150.000000         150.000000   \n",
            "mean            5.843333          3.057333           3.758000   \n",
            "std             0.828066          0.435866           1.765298   \n",
            "min             4.300000          2.000000           1.000000   \n",
            "25%             5.100000          2.800000           1.600000   \n",
            "50%             5.800000          3.000000           4.350000   \n",
            "75%             6.400000          3.300000           5.100000   \n",
            "max             7.900000          4.400000           6.900000   \n",
            "\n",
            "       petal width (cm)  \n",
            "count        150.000000  \n",
            "mean           1.199333  \n",
            "std            0.762238  \n",
            "min            0.100000  \n",
            "25%            0.300000  \n",
            "50%            1.300000  \n",
            "75%            1.800000  \n",
            "max            2.500000  \n"
          ]
        }
      ],
      "source": [
        "#Step1:- Import necessary libraries\n",
        "import pandas as pd\n",
        "from sklearn.datasets import load_iris\n",
        "\n",
        "#Step2:- Load the Iris dataset\n",
        "iris = load_iris()\n",
        "\n",
        "#Step3:- Convert the dataset to a DataFrame for easier exploration\n",
        "iris_df = pd.DataFrame(iris.data, columns=iris.feature_names)\n",
        "\n",
        "#Step4:- Display the first five rows of the dataset\n",
        "print(\"First five rows of the dataset:\")\n",
        "print(iris_df.head())\n",
        "\n",
        "#Step5:- Display the shape of the dataset\n",
        "print(\"\\nShape of the dataset:\")\n",
        "print(iris_df.shape)\n",
        "\n",
        "#Step6:-  Display summary statistics for each feature (mean, std, min, max)\n",
        "print(\"\\nSummary statistics of the dataset:\")\n",
        "print(iris_df.describe())"
      ]
    }
  ],
  "metadata": {
    "colab": {
      "authorship_tag": "ABX9TyMMlYlsX7uhEUxgcvQ9P7CW",
      "include_colab_link": true,
      "provenance": []
    },
    "kernelspec": {
      "display_name": "Python 3",
      "name": "python3"
    },
    "language_info": {
      "name": "python"
    }
  },
  "nbformat": 4,
  "nbformat_minor": 0
}
