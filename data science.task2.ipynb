{
  "cells": [
    {
      "cell_type": "markdown",
      "metadata": {
        "colab_type": "text",
        "id": "view-in-github"
      },
      "source": [
        "<a href=\"https://colab.research.google.com/github/anchaltri255/DSV-Task-repo/blob/main/DSV_Task2.ipynb\" target=\"_parent\"><img src=\"https://colab.research.google.com/assets/colab-badge.svg\" alt=\"Open In Colab\"/></a>"
      ]
    },
    {
      "cell_type": "markdown",
      "metadata": {
        "id": "cdiFjkZF07lJ"
      },
      "source": [
        "# 2. **Data Splitting:**\n",
        "   - Split the Iris dataset into training and testing sets using an 80-20 split.\n",
        "   - Print the number of samples in both the training and testing sets."
      ]
    },
    {
      "cell_type": "code",
      "execution_count": null,
      "metadata": {
        "colab": {
          "base_uri": "https://localhost:8080/"
        },
        "id": "Ru7Hu_0Q1F8b",
        "outputId": "1969a9ca-36ec-4b08-fb34-56c7dc94ad47"
      },
      "outputs": [
        {
          "name": "stdout",
          "output_type": "stream",
          "text": [
            "Number of samples in the training set: 120\n",
            "Number of samples in the testing set: 30\n"
          ]
        }
      ],
      "source": [
        "#Step1:- Import necessary libraries\n",
        "from sklearn.model_selection import train_test_split\n",
        "from sklearn.datasets import load_iris\n",
        "\n",
        "#Step2:- Load the Iris dataset\n",
        "iris = load_iris()\n",
        "\n",
        "#Step3:- Split the data into features (X) and target labels (y)\n",
        "X = iris.data  # Features (sepal length, sepal width, petal length, petal width)\n",
        "y = iris.target  # Labels (target species)\n",
        "\n",
        "#Step4:- Split the dataset into training and testing sets (80% training, 20% testing)\n",
        "X_train, X_test, y_train, y_test = train_test_split(X, y, test_size=0.2, random_state=42)\n",
        "\n",
        "#Step5:- Print the number of samples in the training and testing sets\n",
        "print(\"Number of samples in the training set:\", X_train.shape[0])\n",
        "print(\"Number of samples in the testing set:\", X_test.shape[0])"
      ]
    }
  ],
  "metadata": {
    "colab": {
      "authorship_tag": "ABX9TyPoPyYW9k8rmeFKHVl0/vmF",
      "include_colab_link": true,
      "provenance": []
    },
    "kernelspec": {
      "display_name": "Python 3",
      "name": "python3"
    },
    "language_info": {
      "name": "python"
    }
  },
  "nbformat": 4,
  "nbformat_minor": 0
}
